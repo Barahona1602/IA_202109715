{
 "cells": [
  {
   "cell_type": "code",
   "execution_count": 15,
   "metadata": {},
   "outputs": [],
   "source": [
    "# Si es una g(x) -> costo uniforme\n",
    "# Si es h(x) -> best-first\n",
    "# Si es f(x) = g(x) + h(x) -> a*\n",
    "import random\n",
    "\n",
    "\n",
    "def sucastar(nodo, s):\n",
    "    n = nodo[0]\n",
    "    i = n.index('0')\n",
    "    if i == 0:\n",
    "        return [\n",
    "            [n[1] + n[0] + n[2] + n[3] + n[4] + n[5] + n[6] + n[7] + n[8]  ]\n",
    "        ]\n",
    "\n",
    "\n",
    "def h(nodo_actual, nodo_fin):\n",
    "    return [x != y for (x,y) in zip(nodo_actual, nodo_fin)].count(True)\n",
    "\n",
    "\n",
    "def revolve(nodo_inicial, nodo_fin):\n",
    "    return random.choice(sucastar(nodo_inicial, nodo_fin))[0]\n",
    "\n",
    "\n",
    "def astar(nodo_fin, n):\n",
    "    nodo_inicio = nodo_fin\n",
    "    for x in range(0, n):\n",
    "        nodo_inicio = revolve(nodo_inicio, nodo_fin)\n",
    "    print(\"\\nA*\")\n",
    "    lista = [[nodo_inicio, h(nodo_inicio, nodo_fin), 0]]\n",
    "    visitados = [nodo_inicio]\n",
    "    cont = 0\n",
    "    while lista:\n",
    "        cont += 1\n",
    "        nodo_actual = lista.pop(0)\n",
    "        print(nodo_actual)\n",
    "        visitados.extend([nodo_actual[0]])\n",
    "        if nodo_actual[0] == nodo_fin:\n",
    "            print(cont)\n",
    "            print(\"SOLUCION\")\n",
    "            return\n",
    "        temp = sucastar(nodo_actual, nodo_fin)\n",
    "        print(temp)\n",
    "        lista.extend([x for x in temp if x[0] not in visitados])\n",
    "        lista.sort(key=lambda x: int(x[1]))\n",
    "        print(lista)\n",
    "    print(\"NO SOLUCION\")"
   ]
  },
  {
   "cell_type": "code",
   "execution_count": 19,
   "metadata": {},
   "outputs": [
    {
     "ename": "ValueError",
     "evalue": "substring not found",
     "output_type": "error",
     "traceback": [
      "\u001b[1;31m---------------------------------------------------------------------------\u001b[0m",
      "\u001b[1;31mValueError\u001b[0m                                Traceback (most recent call last)",
      "Cell \u001b[1;32mIn[19], line 3\u001b[0m\n\u001b[0;32m      1\u001b[0m nodo_inicio \u001b[38;5;241m=\u001b[39m \u001b[38;5;124m'\u001b[39m\u001b[38;5;124m123456780\u001b[39m\u001b[38;5;124m'\u001b[39m\n\u001b[0;32m      2\u001b[0m nodo_fin \u001b[38;5;241m=\u001b[39m \u001b[38;5;124m'\u001b[39m\u001b[38;5;124m012345678\u001b[39m\u001b[38;5;124m'\u001b[39m \n\u001b[1;32m----> 3\u001b[0m \u001b[43mrevolve\u001b[49m\u001b[43m(\u001b[49m\u001b[43mnodo_inicio\u001b[49m\u001b[43m,\u001b[49m\u001b[43m \u001b[49m\u001b[43mnodo_fin\u001b[49m\u001b[43m)\u001b[49m\n",
      "Cell \u001b[1;32mIn[15], line 21\u001b[0m, in \u001b[0;36mrevolve\u001b[1;34m(nodo_inicial, nodo_fin)\u001b[0m\n\u001b[0;32m     20\u001b[0m \u001b[38;5;28;01mdef\u001b[39;00m \u001b[38;5;21mrevolve\u001b[39m(nodo_inicial, nodo_fin):\n\u001b[1;32m---> 21\u001b[0m     \u001b[38;5;28;01mreturn\u001b[39;00m random\u001b[38;5;241m.\u001b[39mchoice(\u001b[43msucastar\u001b[49m\u001b[43m(\u001b[49m\u001b[43mnodo_inicial\u001b[49m\u001b[43m,\u001b[49m\u001b[43m \u001b[49m\u001b[43mnodo_fin\u001b[49m\u001b[43m)\u001b[49m)[\u001b[38;5;241m0\u001b[39m]\n",
      "Cell \u001b[1;32mIn[15], line 9\u001b[0m, in \u001b[0;36msucastar\u001b[1;34m(nodo, s)\u001b[0m\n\u001b[0;32m      7\u001b[0m \u001b[38;5;28;01mdef\u001b[39;00m \u001b[38;5;21msucastar\u001b[39m(nodo, s):\n\u001b[0;32m      8\u001b[0m     n \u001b[38;5;241m=\u001b[39m nodo[\u001b[38;5;241m0\u001b[39m]\n\u001b[1;32m----> 9\u001b[0m     i \u001b[38;5;241m=\u001b[39m \u001b[43mn\u001b[49m\u001b[38;5;241;43m.\u001b[39;49m\u001b[43mindex\u001b[49m\u001b[43m(\u001b[49m\u001b[38;5;124;43m'\u001b[39;49m\u001b[38;5;124;43m0\u001b[39;49m\u001b[38;5;124;43m'\u001b[39;49m\u001b[43m)\u001b[49m\n\u001b[0;32m     10\u001b[0m     \u001b[38;5;28;01mif\u001b[39;00m i \u001b[38;5;241m==\u001b[39m \u001b[38;5;241m0\u001b[39m:\n\u001b[0;32m     11\u001b[0m         \u001b[38;5;28;01mreturn\u001b[39;00m [\n\u001b[0;32m     12\u001b[0m             [n[\u001b[38;5;241m1\u001b[39m] \u001b[38;5;241m+\u001b[39m n[\u001b[38;5;241m0\u001b[39m] \u001b[38;5;241m+\u001b[39m n[\u001b[38;5;241m2\u001b[39m] \u001b[38;5;241m+\u001b[39m n[\u001b[38;5;241m3\u001b[39m] \u001b[38;5;241m+\u001b[39m n[\u001b[38;5;241m4\u001b[39m] \u001b[38;5;241m+\u001b[39m n[\u001b[38;5;241m5\u001b[39m] \u001b[38;5;241m+\u001b[39m n[\u001b[38;5;241m6\u001b[39m] \u001b[38;5;241m+\u001b[39m n[\u001b[38;5;241m7\u001b[39m] \u001b[38;5;241m+\u001b[39m n[\u001b[38;5;241m8\u001b[39m]  ]\n\u001b[0;32m     13\u001b[0m         ]\n",
      "\u001b[1;31mValueError\u001b[0m: substring not found"
     ]
    }
   ],
   "source": [
    "nodo_inicio = '123456780'\n",
    "nodo_fin = '012345678' \n",
    "revolve(nodo_inicio, nodo_fin)"
   ]
  }
 ],
 "metadata": {
  "kernelspec": {
   "display_name": "Python 3",
   "language": "python",
   "name": "python3"
  },
  "language_info": {
   "codemirror_mode": {
    "name": "ipython",
    "version": 3
   },
   "file_extension": ".py",
   "mimetype": "text/x-python",
   "name": "python",
   "nbconvert_exporter": "python",
   "pygments_lexer": "ipython3",
   "version": "3.11.5"
  }
 },
 "nbformat": 4,
 "nbformat_minor": 2
}
